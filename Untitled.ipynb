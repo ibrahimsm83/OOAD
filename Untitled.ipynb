{
  "nbformat": 4,
  "nbformat_minor": 0,
  "metadata": {
    "colab": {
      "name": "Untitled",
      "provenance": [],
      "collapsed_sections": [],
      "authorship_tag": "ABX9TyOjc5Mui5coBfdyY86sWCqx",
      "include_colab_link": true
    },
    "kernelspec": {
      "name": "python3",
      "display_name": "Python 3"
    }
  },
  "cells": [
    {
      "cell_type": "markdown",
      "metadata": {
        "id": "view-in-github",
        "colab_type": "text"
      },
      "source": [
        "<a href=\"https://colab.research.google.com/github/ibrahimsm83/OOAD/blob/master/Untitled.ipynb\" target=\"_parent\"><img src=\"https://colab.research.google.com/assets/colab-badge.svg\" alt=\"Open In Colab\"/></a>"
      ]
    },
    {
      "cell_type": "code",
      "metadata": {
        "id": "ovtUky-fFfI8",
        "colab_type": "code",
        "colab": {
          "base_uri": "https://localhost:8080/",
          "height": 34
        },
        "outputId": "2130f945-ec5d-4d88-9fba-78718aa6de56"
      },
      "source": [
        "print(\"Hello world\")"
      ],
      "execution_count": 4,
      "outputs": [
        {
          "output_type": "stream",
          "text": [
            "Hello world\n"
          ],
          "name": "stdout"
        }
      ]
    },
    {
      "cell_type": "markdown",
      "metadata": {
        "id": "lZ3maAseFtdL",
        "colab_type": "text"
      },
      "source": [
        ""
      ]
    },
    {
      "cell_type": "code",
      "metadata": {
        "id": "5bVxX2wMFnL5",
        "colab_type": "code",
        "colab": {
          "base_uri": "https://localhost:8080/",
          "height": 34
        },
        "outputId": "93d33a87-91e3-462e-e056-99b0414aeae9"
      },
      "source": [
        "x=4\n",
        "\n",
        "y=x+5\n",
        "print(y)"
      ],
      "execution_count": 6,
      "outputs": [
        {
          "output_type": "stream",
          "text": [
            "9\n"
          ],
          "name": "stdout"
        }
      ]
    },
    {
      "cell_type": "code",
      "metadata": {
        "id": "Kr_V1zTAHMho",
        "colab_type": "code",
        "colab": {
          "base_uri": "https://localhost:8080/",
          "height": 34
        },
        "outputId": "71f19177-f4d6-4ac3-ff86-a9b36ca8b967"
      },
      "source": [
        "print(x,y)"
      ],
      "execution_count": 7,
      "outputs": [
        {
          "output_type": "stream",
          "text": [
            "4 9\n"
          ],
          "name": "stdout"
        }
      ]
    },
    {
      "cell_type": "code",
      "metadata": {
        "id": "AARZi9YrHnlg",
        "colab_type": "code",
        "colab": {
          "base_uri": "https://localhost:8080/",
          "height": 85
        },
        "outputId": "2950ed31-94b8-4ba4-ec67-56aa191cabd6"
      },
      "source": [
        "#x=input(\"Enter num1=: \")\n",
        "#y=input(\"Enter num2=: \")\n",
        "x=7\n",
        "y=8\n",
        "sum=x+y\n",
        "sub=x-y\n",
        "mul=x*y\n",
        "div=x/y\n",
        "print(sum)\n",
        "print(sub)\n",
        "print(mul)\n",
        "print(div)"
      ],
      "execution_count": 13,
      "outputs": [
        {
          "output_type": "stream",
          "text": [
            "15\n",
            "-1\n",
            "56\n",
            "0.875\n"
          ],
          "name": "stdout"
        }
      ]
    },
    {
      "cell_type": "code",
      "metadata": {
        "id": "ZC34ifXOIhya",
        "colab_type": "code",
        "colab": {
          "base_uri": "https://localhost:8080/",
          "height": 119
        },
        "outputId": "1078dbaf-693c-47eb-bef2-51eea5846ad6"
      },
      "source": [
        "n=input(\"Name :\\t\")\n",
        "age=input(\"Age : \\t\")\n",
        "edu=input(\"edu :\\t\")\n",
        "print(\"My Name is:\\t \",n)\n",
        "print(\"My Age is \\t\",age)\n",
        "print(\"Education is:\\t \",edu)"
      ],
      "execution_count": 15,
      "outputs": [
        {
          "output_type": "stream",
          "text": [
            "Name :\tibrahim\n",
            "Age : \t20\n",
            "edu :\tphd\n",
            "My Name is:\t  ibrahim\n",
            "My Age is \t 20\n",
            "Education is:\t  phd\n"
          ],
          "name": "stdout"
        }
      ]
    },
    {
      "cell_type": "code",
      "metadata": {
        "id": "Q-7zY5GFMZNV",
        "colab_type": "code",
        "colab": {
          "base_uri": "https://localhost:8080/",
          "height": 119
        },
        "outputId": "b5343c39-cfd6-4bdc-b1f0-d284440c4e9c"
      },
      "source": [
        "print(\"N\\t\\tN\")\n",
        "print(\"N N\\t\\tN\")\n",
        "print(\"N  N\\t\\tN\")\n",
        "print(\"N    N\\tN\\tN\")\n",
        "print(\"N      N\\t\\tN\")\n",
        "print(\"N\\t\\tN\")\n"
      ],
      "execution_count": 20,
      "outputs": [
        {
          "output_type": "stream",
          "text": [
            "N\t\tN\n",
            "N N\t\tN\n",
            "N  N\t\tN\n",
            "N\tN\tN\n",
            "N\t\tN\n",
            "N\t\tN\n"
          ],
          "name": "stdout"
        }
      ]
    },
    {
      "cell_type": "code",
      "metadata": {
        "id": "5g_sDonMN87-",
        "colab_type": "code",
        "colab": {}
      },
      "source": [
        "x=input(\"no :\\t\")\n",
        "y=int(x)*int(x)\n",
        "print(\"Square is :\\t\",y)"
      ],
      "execution_count": null,
      "outputs": []
    },
    {
      "cell_type": "code",
      "metadata": {
        "id": "3cvkekpyPeqL",
        "colab_type": "code",
        "colab": {}
      },
      "source": [
        ""
      ],
      "execution_count": null,
      "outputs": []
    }
  ]
}